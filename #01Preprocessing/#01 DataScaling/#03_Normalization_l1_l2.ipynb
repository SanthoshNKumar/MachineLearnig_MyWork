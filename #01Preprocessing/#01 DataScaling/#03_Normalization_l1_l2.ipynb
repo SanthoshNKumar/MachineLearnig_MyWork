{
 "cells": [
  {
   "cell_type": "code",
   "execution_count": 4,
   "metadata": {},
   "outputs": [],
   "source": [
    "import numpy as np\n",
    "from sklearn.preprocessing import Normalizer"
   ]
  },
  {
   "cell_type": "code",
   "execution_count": 5,
   "metadata": {},
   "outputs": [
    {
     "name": "stdout",
     "output_type": "stream",
     "text": [
      "[1. 2.]\n"
     ]
    }
   ],
   "source": [
    "data = np.array([1.0, 2.0])\n",
    "print(data)"
   ]
  },
  {
   "cell_type": "code",
   "execution_count": 6,
   "metadata": {},
   "outputs": [
    {
     "name": "stdout",
     "output_type": "stream",
     "text": [
      "[[0.5 1. ]]\n"
     ]
    }
   ],
   "source": [
    "n_max = Normalizer(norm='max')\n",
    "nm = n_max.fit_transform(data.reshape(1, -1))\n",
    "print(nm)"
   ]
  },
  {
   "cell_type": "code",
   "execution_count": 7,
   "metadata": {},
   "outputs": [
    {
     "name": "stdout",
     "output_type": "stream",
     "text": [
      "[[0.33333333 0.66666667]]\n"
     ]
    }
   ],
   "source": [
    "# L1 normalization\n",
    "n_l1 = Normalizer(norm='l1')\n",
    "nl1 = n_l1.fit_transform(data.reshape(1, -1))\n",
    "print(nl1)\n",
    "\n",
    "# data = [1,2]  = 1 + 2 = 3\n",
    "#  1/3 = 0.33333 ; 2/3 = 0.666666"
   ]
  },
  {
   "cell_type": "code",
   "execution_count": 8,
   "metadata": {},
   "outputs": [
    {
     "name": "stdout",
     "output_type": "stream",
     "text": [
      "[[0.4472136  0.89442719]]\n"
     ]
    }
   ],
   "source": [
    "# L2 normalization\n",
    "n_l2 = Normalizer(norm='l2')\n",
    "nl2 = n_l2.fit_transform(data.reshape(1, -1))\n",
    "print(nl2)\n",
    "\n",
    "# data = [1,2] = 1*1 + 2*2  = 5 => sqrt(5) = 2.236\n",
    "# 1/2.236 = 0.4472; 3/2.236 = 0.8944 "
   ]
  },
  {
   "cell_type": "code",
   "execution_count": null,
   "metadata": {},
   "outputs": [],
   "source": []
  }
 ],
 "metadata": {
  "kernelspec": {
   "display_name": "Python 3",
   "language": "python",
   "name": "python3"
  },
  "language_info": {
   "codemirror_mode": {
    "name": "ipython",
    "version": 3
   },
   "file_extension": ".py",
   "mimetype": "text/x-python",
   "name": "python",
   "nbconvert_exporter": "python",
   "pygments_lexer": "ipython3",
   "version": "3.7.4"
  }
 },
 "nbformat": 4,
 "nbformat_minor": 2
}
