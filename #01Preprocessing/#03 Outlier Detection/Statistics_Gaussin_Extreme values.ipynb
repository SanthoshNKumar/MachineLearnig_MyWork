{
 "cells": [
  {
   "cell_type": "code",
   "execution_count": 5,
   "metadata": {},
   "outputs": [],
   "source": [
    "# Extreme Values\n",
    "# A common reason is the presence of extreme values at the edge of the distribution. \n",
    "# Extreme values could be present for a number of reasons, such as:\n",
    "\n",
    "# Measurement error.\n",
    "# Missing data.\n",
    "# Data corruption.\n",
    "# Rare events.\n",
    "\n",
    "# In such cases, the extreme values could be identified and removed in order to make the distribution more Gaussian. \n",
    "# These extreme values are often called outliers."
   ]
  },
  {
   "cell_type": "code",
   "execution_count": 6,
   "metadata": {},
   "outputs": [
    {
     "data": {
      "image/png": "[encoded data removed]",
      "text/plain": [
       "<Figure size 432x288 with 1 Axes>"
      ]
     },
     "metadata": {
      "needs_background": "light"
     },
     "output_type": "display_data"
    }
   ],
   "source": [
    "# histogram plot of data with outliers\n",
    "from numpy.random import seed\n",
    "from numpy.random import randn\n",
    "from numpy import zeros\n",
    "from numpy import append\n",
    "from matplotlib import pyplot\n",
    "# seed the random number generator\n",
    "seed(1)\n",
    "# generate a univariate data sample\n",
    "data = 5 * randn(100) + 10\n",
    "# add extreme values\n",
    "data = append(data, zeros(10))\n",
    "# histogram\n",
    "pyplot.hist(data)\n",
    "pyplot.show()"
   ]
  },
  {
   "cell_type": "code",
   "execution_count": null,
   "metadata": {},
   "outputs": [],
   "source": []
  }
 ],
 "metadata": {
  "kernelspec": {
   "display_name": "Python 3",
   "language": "python",
   "name": "python3"
  },
  "language_info": {
   "codemirror_mode": {
    "name": "ipython",
    "version": 3
   },
   "file_extension": ".py",
   "mimetype": "text/x-python",
   "name": "python",
   "nbconvert_exporter": "python",
   "pygments_lexer": "ipython3",
   "version": "3.7.4"
  }
 },
 "nbformat": 4,
 "nbformat_minor": 2
}
