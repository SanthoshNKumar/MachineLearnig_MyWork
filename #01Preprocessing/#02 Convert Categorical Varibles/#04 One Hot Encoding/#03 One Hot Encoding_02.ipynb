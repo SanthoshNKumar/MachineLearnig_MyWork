{
 "cells": [
  {
   "cell_type": "code",
   "execution_count": 30,
   "metadata": {},
   "outputs": [
    {
     "name": "stdout",
     "output_type": "stream",
     "text": [
      "duct: \t[1, 0, 0, 0, 0, 0, 0, 0, 0, 0]\n",
      "tape: \t[0, 1, 0, 0, 0, 0, 0, 0, 0, 0]\n",
      "works: \t[0, 0, 1, 0, 0, 0, 0, 0, 0, 0]\n",
      "anywhere: \t[0, 0, 0, 1, 0, 0, 0, 0, 0, 0]\n",
      "is: \t[0, 0, 0, 0, 1, 0, 0, 0, 0, 0]\n",
      "magic: \t[0, 0, 0, 0, 0, 1, 0, 0, 0, 0]\n",
      "and: \t[0, 0, 0, 0, 0, 0, 1, 0, 0, 0]\n",
      "should: \t[0, 0, 0, 0, 0, 0, 0, 1, 0, 0]\n",
      "be: \t[0, 0, 0, 0, 0, 0, 0, 0, 1, 0]\n",
      "worshiped: \t[0, 0, 0, 0, 0, 0, 0, 0, 0, 1]\n"
     ]
    }
   ],
   "source": [
    "def one_hot_encode_my_word(myword,the_vocabulary):\n",
    "    one_hot_encode_vector = []\n",
    "    for word in the_vocabulary:\n",
    "        if word == myword:\n",
    "            one_hot_encode_vector.append(1)\n",
    "        else:\n",
    "            one_hot_encode_vector.append(0)\n",
    "    return one_hot_encode_vector\n",
    "\n",
    "v = [\"duct\", \"tape\", \"works\", \"anywhere\", \"is\", \"magic\", \"and\", \"should\", \"be\", \"worshiped\"]\n",
    "\n",
    "for i in range(0,len(v)):\n",
    "    print(v[i] + \": \\t\" +str(one_hot_encode_my_word(v[i],v)))"
   ]
  },
  {
   "cell_type": "code",
   "execution_count": null,
   "metadata": {},
   "outputs": [],
   "source": []
  },
  {
   "cell_type": "code",
   "execution_count": null,
   "metadata": {},
   "outputs": [],
   "source": []
  }
 ],
 "metadata": {
  "kernelspec": {
   "display_name": "Python 3",
   "language": "python",
   "name": "python3"
  },
  "language_info": {
   "codemirror_mode": {
    "name": "ipython",
    "version": 3
   },
   "file_extension": ".py",
   "mimetype": "text/x-python",
   "name": "python",
   "nbconvert_exporter": "python",
   "pygments_lexer": "ipython3",
   "version": "3.6.1"
  }
 },
 "nbformat": 4,
 "nbformat_minor": 2
}
