{
 "cells": [
  {
   "cell_type": "code",
   "execution_count": 15,
   "metadata": {},
   "outputs": [],
   "source": [
    "import numpy as np\n",
    "from sklearn.datasets import load_boston,load_iris\n",
    "from sklearn.feature_selection import SelectPercentile,chi2,f_regression"
   ]
  },
  {
   "cell_type": "code",
   "execution_count": 16,
   "metadata": {},
   "outputs": [
    {
     "name": "stdout",
     "output_type": "stream",
     "text": [
      "Iris Dataset Shape\n",
      "(150, 4)\n"
     ]
    }
   ],
   "source": [
    "class_data = load_iris()\n",
    "\n",
    "# Load Iris Data\n",
    "print('Iris Dataset Shape')\n",
    "print(class_data.data.shape)"
   ]
  },
  {
   "cell_type": "code",
   "execution_count": 18,
   "metadata": {},
   "outputs": [
    {
     "name": "stdout",
     "output_type": "stream",
     "text": [
      "hi2-filtered Iris dataset shape\n",
      "(150, 1)\n",
      "Chi2_Scores\n",
      "[ 10.81782088   3.7107283  116.31261309  67.0483602 ]\n"
     ]
    }
   ],
   "source": [
    "# Select the best K features using Chi2 Classification\n",
    "perc_class = SelectPercentile(chi2,percentile=15)\n",
    "X_p = perc_class.fit_transform(class_data.data,class_data.target)\n",
    "\n",
    "\n",
    "print('hi2-filtered Iris dataset shape')\n",
    "print(X_p.shape)\n",
    "print('Chi2_Scores')\n",
    "print(perc_class.scores_)"
   ]
  },
  {
   "cell_type": "code",
   "execution_count": null,
   "metadata": {},
   "outputs": [],
   "source": []
  }
 ],
 "metadata": {
  "kernelspec": {
   "display_name": "Python 3",
   "language": "python",
   "name": "python3"
  },
  "language_info": {
   "codemirror_mode": {
    "name": "ipython",
    "version": 3
   },
   "file_extension": ".py",
   "mimetype": "text/x-python",
   "name": "python",
   "nbconvert_exporter": "python",
   "pygments_lexer": "ipython3",
   "version": "3.6.1"
  }
 },
 "nbformat": 4,
 "nbformat_minor": 2
}
