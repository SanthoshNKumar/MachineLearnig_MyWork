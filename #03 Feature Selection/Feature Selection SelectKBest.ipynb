{
 "cells": [
  {
   "cell_type": "code",
   "execution_count": 22,
   "metadata": {},
   "outputs": [],
   "source": [
    "import numpy as np\n",
    "from sklearn.datasets import load_boston,load_iris\n",
    "from sklearn.feature_selection import SelectKBest,SelectPercentile,chi2,f_regression"
   ]
  },
  {
   "cell_type": "code",
   "execution_count": 23,
   "metadata": {},
   "outputs": [],
   "source": [
    "boston = load_boston()\n",
    "\n",
    "X = boston.data   # 13 features\n",
    "y = boston.target"
   ]
  },
  {
   "cell_type": "code",
   "execution_count": 24,
   "metadata": {},
   "outputs": [
    {
     "name": "stdout",
     "output_type": "stream",
     "text": [
      "(506, 13) \n",
      "\n",
      "(506, 10) \n",
      "\n",
      "[ 89.48611476  75.2576423  153.95488314  15.97151242 112.59148028\n",
      " 471.84673988  83.47745922  33.57957033  85.91427767 141.76135658\n",
      " 175.10554288  63.05422911 601.61787111] \n",
      "\n"
     ]
    }
   ],
   "source": [
    "kb = SelectKBest(f_regression)\n",
    "\n",
    "X_after = kb.fit_transform(X,y)\n",
    "\n",
    "print(X.shape,'\\n')   # 13 Features\n",
    "\n",
    "print(X_after.shape,'\\n') \n",
    "\n",
    "print(kb.scores_,'\\n')"
   ]
  },
  {
   "cell_type": "code",
   "execution_count": null,
   "metadata": {},
   "outputs": [],
   "source": []
  },
  {
   "cell_type": "code",
   "execution_count": null,
   "metadata": {},
   "outputs": [],
   "source": []
  }
 ],
 "metadata": {
  "kernelspec": {
   "display_name": "Python 3",
   "language": "python",
   "name": "python3"
  },
  "language_info": {
   "codemirror_mode": {
    "name": "ipython",
    "version": 3
   },
   "file_extension": ".py",
   "mimetype": "text/x-python",
   "name": "python",
   "nbconvert_exporter": "python",
   "pygments_lexer": "ipython3",
   "version": "3.6.1"
  }
 },
 "nbformat": 4,
 "nbformat_minor": 2
}
