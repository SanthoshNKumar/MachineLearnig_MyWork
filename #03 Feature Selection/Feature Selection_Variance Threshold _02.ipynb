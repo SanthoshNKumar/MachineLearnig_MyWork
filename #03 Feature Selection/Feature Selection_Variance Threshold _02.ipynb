{
 "cells": [
  {
   "cell_type": "code",
   "execution_count": 13,
   "metadata": {},
   "outputs": [],
   "source": [
    "import numpy as np\n",
    "import pandas as pd\n",
    "\n",
    "hr_data = pd.read_csv(\"C:\\\\Users\\\\INSAKUM46\\\\AppData\\\\Local\\\\Programs\\\\Python\\\\Python36\\\\Scripts\\\\#04 Machine Learning CookBook\\\\datasets\\\\hr.csv\")\n",
    "\n",
    "data_tranf = pd.get_dummies(hr_data,columns=['salary','sales'])\n",
    "\n",
    "X = data_tranf.drop('left',axis =1)\n",
    "y = data_tranf.left\n"
   ]
  },
  {
   "cell_type": "code",
   "execution_count": 14,
   "metadata": {},
   "outputs": [
    {
     "name": "stdout",
     "output_type": "stream",
     "text": [
      "Number of features: 20\n",
      "Reduced number of features: 5\n"
     ]
    }
   ],
   "source": [
    "# This means that if there is less than 20% variance in data for an attribute, \n",
    "# it can be discarded and will not be selected as a feature\n",
    "\n",
    "#Variance Threshold\n",
    "from sklearn.feature_selection import VarianceThreshold\n",
    "\n",
    "# Set threshold to 0.2\n",
    "select_features = VarianceThreshold(threshold = 0.2)\n",
    "select_features.fit_transform(X)\n",
    "\n",
    "# Subset features\n",
    "X_subset = select_features.transform(X)\n",
    "\n",
    "print('Number of features:', X.shape[1])\n",
    "print('Reduced number of features:',X_subset.shape[1])"
   ]
  },
  {
   "cell_type": "code",
   "execution_count": null,
   "metadata": {},
   "outputs": [],
   "source": []
  }
 ],
 "metadata": {
  "kernelspec": {
   "display_name": "Python 3",
   "language": "python",
   "name": "python3"
  },
  "language_info": {
   "codemirror_mode": {
    "name": "ipython",
    "version": 3
   },
   "file_extension": ".py",
   "mimetype": "text/x-python",
   "name": "python",
   "nbconvert_exporter": "python",
   "pygments_lexer": "ipython3",
   "version": "3.6.1"
  }
 },
 "nbformat": 4,
 "nbformat_minor": 2
}
