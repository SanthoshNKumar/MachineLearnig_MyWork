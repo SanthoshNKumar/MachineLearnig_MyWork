{
 "cells": [
  {
   "cell_type": "code",
   "execution_count": 2,
   "metadata": {},
   "outputs": [],
   "source": [
    "import numpy as np\n",
    "import pandas as pd\n",
    "\n",
    "hr_data = pd.read_csv(\"C:\\\\Users\\\\INSAKUM46\\\\AppData\\\\Local\\\\Programs\\\\Python\\\\Python36\\\\Scripts\\\\#04 Machine Learning CookBook\\\\datasets\\\\hr.csv\")\n",
    "\n",
    "data_tranf = pd.get_dummies(hr_data,columns=['salary','sales'])\n",
    "\n",
    "X = data_tranf.drop('left',axis =1)\n",
    "y = data_tranf.left"
   ]
  },
  {
   "cell_type": "code",
   "execution_count": 8,
   "metadata": {},
   "outputs": [
    {
     "name": "stdout",
     "output_type": "stream",
     "text": [
      "[0.33976614 0.11850236 0.18812632 0.12074759 0.1866455  0.01071232\n",
      " 0.00205714 0.00362537 0.0072146  0.00435242 0.00162888 0.00099978\n",
      " 0.00179697 0.00118633 0.00131829 0.00139909 0.00142715 0.0026077\n",
      " 0.00259079 0.00329526] \n",
      "\n",
      "\n",
      "[(0.001, 'sales_RandD'), (0.0012, 'sales_hr'), (0.0013, 'sales_management'), (0.0014, 'sales_marketing'), (0.0014, 'sales_product_mng'), (0.0016, 'sales_IT'), (0.0018, 'sales_accounting'), (0.0021, 'promotion_last_5years'), (0.0026, 'sales_sales'), (0.0026, 'sales_support'), (0.0033, 'sales_technical'), (0.0036, 'salary_high'), (0.0044, 'salary_medium'), (0.0072, 'salary_low'), (0.0107, 'Work_accident'), (0.1185, 'last_evaluation'), (0.1207, 'average_montly_hours'), (0.1866, 'time_spend_company'), (0.1881, 'number_project'), (0.3398, 'satisfaction_level')]\n"
     ]
    },
    {
     "name": "stderr",
     "output_type": "stream",
     "text": [
      "c:\\users\\insakum46\\appdata\\local\\programs\\python\\python36\\lib\\site-packages\\sklearn\\ensemble\\forest.py:246: FutureWarning: The default value of n_estimators will change from 10 in version 0.20 to 100 in 0.22.\n",
      "  \"10 in version 0.20 to 100 in 0.22.\", FutureWarning)\n"
     ]
    }
   ],
   "source": [
    "#Feature Importance\n",
    "from sklearn.ensemble import RandomForestClassifier\n",
    "\n",
    "# fit a RandomForest model to the data\n",
    "model = RandomForestClassifier()\n",
    "model.fit(X, y)\n",
    "\n",
    "# display the relative importance of each attribute\n",
    "print(model.feature_importances_,\"\\n\\n\")\n",
    "print(sorted(zip(map(lambda x: round(x, 4), model.feature_importances_),X)))"
   ]
  },
  {
   "cell_type": "code",
   "execution_count": null,
   "metadata": {},
   "outputs": [],
   "source": []
  }
 ],
 "metadata": {
  "kernelspec": {
   "display_name": "Python 3",
   "language": "python",
   "name": "python3"
  },
  "language_info": {
   "codemirror_mode": {
    "name": "ipython",
    "version": 3
   },
   "file_extension": ".py",
   "mimetype": "text/x-python",
   "name": "python",
   "nbconvert_exporter": "python",
   "pygments_lexer": "ipython3",
   "version": "3.6.1"
  }
 },
 "nbformat": 4,
 "nbformat_minor": 2
}
