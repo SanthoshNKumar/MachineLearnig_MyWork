{
 "cells": [
  {
   "cell_type": "code",
   "execution_count": 1,
   "metadata": {},
   "outputs": [],
   "source": [
    "import numpy as np\n",
    "from sklearn import datasets\n",
    "from sklearn.utils import shuffle\n",
    "from sklearn.tree import DecisionTreeRegressor\n",
    "from sklearn.metrics import mean_squared_error\n",
    "import pandas as pd\n",
    "import matplotlib.pyplot as plt"
   ]
  },
  {
   "cell_type": "code",
   "execution_count": 2,
   "metadata": {},
   "outputs": [
    {
     "data": {
      "image/png": "[encoded data removed]",
      "text/plain": [
       "<Figure size 432x288 with 1 Axes>"
      ]
     },
     "metadata": {
      "needs_background": "light"
     },
     "output_type": "display_data"
    }
   ],
   "source": [
    "housing_data = datasets.load_boston()\n",
    "X,y = shuffle(housing_data.data,housing_data.target,random_state = 7)\n",
    "\n",
    "num_training = int(0.8 * len(X))\n",
    "X_train,y_train = X[:num_training],y[:num_training]\n",
    "X_test,y_test = X[num_training:],y[num_training:]\n",
    "\n",
    "dt_regressor = DecisionTreeRegressor(max_depth=4)\n",
    "dt_regressor.fit(X_train,y_train)\n",
    "\n",
    "feat_importances = pd.Series(dt_regressor.feature_importances_,index = housing_data.feature_names)\n",
    "feat_importances.nlargest(10).plot(kind='barh')\n",
    "\n",
    "plt.show()"
   ]
  },
  {
   "cell_type": "code",
   "execution_count": 3,
   "metadata": {},
   "outputs": [
    {
     "data": {
      "text/plain": [
       "CRIM       0.038564\n",
       "ZN         0.000000\n",
       "INDUS      0.000000\n",
       "CHAS       0.000000\n",
       "NOX        0.029088\n",
       "RM         0.622803\n",
       "AGE        0.000000\n",
       "DIS        0.104734\n",
       "RAD        0.000000\n",
       "TAX        0.000000\n",
       "PTRATIO    0.004605\n",
       "B          0.000000\n",
       "LSTAT      0.200205\n",
       "dtype: float64"
      ]
     },
     "execution_count": 3,
     "metadata": {},
     "output_type": "execute_result"
    }
   ],
   "source": [
    "feat_importances"
   ]
  },
  {
   "cell_type": "code",
   "execution_count": null,
   "metadata": {},
   "outputs": [],
   "source": []
  }
 ],
 "metadata": {
  "kernelspec": {
   "display_name": "Python 3",
   "language": "python",
   "name": "python3"
  },
  "language_info": {
   "codemirror_mode": {
    "name": "ipython",
    "version": 3
   },
   "file_extension": ".py",
   "mimetype": "text/x-python",
   "name": "python",
   "nbconvert_exporter": "python",
   "pygments_lexer": "ipython3",
   "version": "3.6.1"
  }
 },
 "nbformat": 4,
 "nbformat_minor": 2
}
