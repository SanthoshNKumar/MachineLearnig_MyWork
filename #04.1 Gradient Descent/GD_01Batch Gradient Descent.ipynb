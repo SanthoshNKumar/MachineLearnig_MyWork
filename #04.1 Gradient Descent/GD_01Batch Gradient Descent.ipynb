{
 "cells": [
  {
   "cell_type": "code",
   "execution_count": 4,
   "metadata": {},
   "outputs": [],
   "source": [
    "# Batch Gradient Descent:Parameters are updated after computing the gradient of error with respect to the entire training set."
   ]
  },
  {
   "cell_type": "code",
   "execution_count": 5,
   "metadata": {},
   "outputs": [],
   "source": [
    "import numpy as np\n",
    "import matplotlib.pyplot as plt\n",
    "from sklearn.preprocessing import MinMaxScaler\n",
    "\n",
    "x = [30, 35, 37, 59, 70, 76, 88, 100 ]\n",
    "y = [1100, 1423, 1377, 1800, 2304, 2588, 3495, 4839]\n",
    "\n",
    "x = np.reshape(x,(-1,1))\n",
    "y = np.reshape(y,(-1,1))\n",
    "\n",
    "scaler = MinMaxScaler()\n",
    "scaler.fit(x)\n",
    "x = scaler.transform(x)\n",
    "\n",
    "n = len(y)\n",
    "learningrate = 0.1"
   ]
  },
  {
   "cell_type": "code",
   "execution_count": 6,
   "metadata": {},
   "outputs": [],
   "source": [
    "theta0 = 0\n",
    "theta1 = 0\n",
    "\n",
    "loss = []\n",
    "iteration = []\n",
    "\n",
    "for i in range(100):\n",
    "\n",
    "    predicted = theta0 + (theta1 * x)\n",
    "\n",
    "    cost =(1/n)*np.sum(np.square(y - predicted))\n",
    "    \n",
    "    loss.append(cost)\n",
    "    iteration.append(i)\n",
    "\n",
    "    dtheta0 = (-(2/n) * np.sum(np.subtract(y,predicted)))\n",
    "    dtheta1 = (-(2/n) * np.sum(np.multiply(np.subtract(y,predicted),x)))\n",
    "\n",
    "    theta0 = theta0 - (learningrate * dtheta0)\n",
    "    theta1 = theta1 - (learningrate * dtheta1)"
   ]
  },
  {
   "cell_type": "code",
   "execution_count": 7,
   "metadata": {},
   "outputs": [
    {
     "data": {
      "image/png": "[encoded data removed]",
      "text/plain": [
       "<Figure size 432x288 with 1 Axes>"
      ]
     },
     "metadata": {
      "needs_background": "light"
     },
     "output_type": "display_data"
    }
   ],
   "source": [
    "plt.plot(iteration,loss)\n",
    "plt.xlabel(\"Epochs\")\n",
    "plt.ylabel(\"Loss\")\n",
    "plt.grid()"
   ]
  },
  {
   "cell_type": "code",
   "execution_count": null,
   "metadata": {},
   "outputs": [],
   "source": []
  }
 ],
 "metadata": {
  "kernelspec": {
   "display_name": "Python 3",
   "language": "python",
   "name": "python3"
  },
  "language_info": {
   "codemirror_mode": {
    "name": "ipython",
    "version": 3
   },
   "file_extension": ".py",
   "mimetype": "text/x-python",
   "name": "python",
   "nbconvert_exporter": "python",
   "pygments_lexer": "ipython3",
   "version": "3.7.4"
  }
 },
 "nbformat": 4,
 "nbformat_minor": 2
}
