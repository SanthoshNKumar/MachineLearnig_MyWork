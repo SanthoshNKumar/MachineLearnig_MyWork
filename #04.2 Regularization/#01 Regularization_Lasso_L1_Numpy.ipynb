{
 "cells": [
  {
   "cell_type": "code",
   "execution_count": null,
   "metadata": {},
   "outputs": [],
   "source": [
    "# L1 Regularization : Penalizes weights in portion to the sum of the absolute values of the weights."
   ]
  },
  {
   "cell_type": "code",
   "execution_count": 5,
   "metadata": {},
   "outputs": [],
   "source": [
    "import tensorflow as tf\n",
    "import numpy as np\n",
    "import pandas as pd\n",
    "import matplotlib.pyplot as plt\n",
    "from sklearn.datasets import load_iris\n",
    "\n",
    "iris = load_iris()"
   ]
  },
  {
   "cell_type": "code",
   "execution_count": 6,
   "metadata": {},
   "outputs": [
    {
     "data": {
      "text/plain": [
       "<matplotlib.collections.PathCollection at 0x2b94d532ac8>"
      ]
     },
     "execution_count": 6,
     "metadata": {},
     "output_type": "execute_result"
    },
    {
     "data": {
      "image/png": "[encoded data removed]",
      "text/plain": [
       "<Figure size 432x288 with 1 Axes>"
      ]
     },
     "metadata": {
      "needs_background": "light"
     },
     "output_type": "display_data"
    }
   ],
   "source": [
    "x_vals = ([x[3] for x in iris.data])\n",
    "x_vals = np.reshape(x_vals,(-1,1))\n",
    "\n",
    "y_vals = ([y[0] for y in iris.data])\n",
    "y_vals = np.reshape(y_vals,(-1,1))\n",
    "plt.scatter(x_vals,y_vals)"
   ]
  },
  {
   "cell_type": "code",
   "execution_count": 7,
   "metadata": {},
   "outputs": [],
   "source": [
    "theta0 = 0\n",
    "theta1 = 0\n",
    "n = len(y_vals)\n",
    "\n",
    "loss = []\n",
    "epochs = []\n",
    "alpha = 0.1\n",
    "learningrate = 0.1\n",
    "\n",
    "\n",
    "for i in range(100):\n",
    "\n",
    "    predicted = theta0 +(theta1 * y_vals)\n",
    "\n",
    "    mse = (1/n) * np.sum(np.square(np.subtract(y_vals,predicted)))\n",
    "\n",
    "    lassco = alpha * (np.abs(theta0) + np.abs(theta1))\n",
    "\n",
    "    cost =  mse + lassco\n",
    "    \n",
    "    loss.append(cost)\n",
    "    epochs.append(i)\n",
    "\n",
    "    dtheta0 = (-(2/n) * np.sum(np.subtract(y_vals,predicted)))\n",
    "    dtheta1 = (-(2/n) * np.sum(np.multiply(np.subtract(y_vals,predicted),x_vals)))\n",
    "\n",
    "    theta0 = theta0 - (learningrate * dtheta0)\n",
    "    theta1 = theta1 - (learningrate * dtheta1)"
   ]
  },
  {
   "cell_type": "code",
   "execution_count": 8,
   "metadata": {},
   "outputs": [
    {
     "data": {
      "image/png": "[encoded data removed]",
      "text/plain": [
       "<Figure size 432x288 with 1 Axes>"
      ]
     },
     "metadata": {
      "needs_background": "light"
     },
     "output_type": "display_data"
    }
   ],
   "source": [
    "plt.plot(epochs,loss)\n",
    "plt.xlabel(\"Iteration\")\n",
    "plt.ylabel(\"Loss\")\n",
    "plt.grid()\n",
    "plt.show()"
   ]
  },
  {
   "cell_type": "code",
   "execution_count": null,
   "metadata": {},
   "outputs": [],
   "source": []
  }
 ],
 "metadata": {
  "kernelspec": {
   "display_name": "Python 3",
   "language": "python",
   "name": "python3"
  },
  "language_info": {
   "codemirror_mode": {
    "name": "ipython",
    "version": 3
   },
   "file_extension": ".py",
   "mimetype": "text/x-python",
   "name": "python",
   "nbconvert_exporter": "python",
   "pygments_lexer": "ipython3",
   "version": "3.7.4"
  }
 },
 "nbformat": 4,
 "nbformat_minor": 2
}
