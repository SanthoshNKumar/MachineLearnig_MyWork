{
 "cells": [
  {
   "cell_type": "code",
   "execution_count": 2,
   "metadata": {},
   "outputs": [
    {
     "name": "stdout",
     "output_type": "stream",
     "text": [
      "[[ 1.  4. nan]\n",
      " [ 4.  6. nan]\n",
      " [-3.  5.  2.]] \n",
      "\n",
      "[[ 1.  4.  2.]\n",
      " [ 4.  6.  2.]\n",
      " [-3.  5.  2.]] \n",
      "\n",
      "[[ 1.  4.  2.]\n",
      " [ 4.  6.  2.]\n",
      " [-3.  5.  2.]]\n"
     ]
    },
    {
     "name": "stderr",
     "output_type": "stream",
     "text": [
      "c:\\users\\insakum46\\appdata\\local\\programs\\python\\python36\\lib\\site-packages\\sklearn\\utils\\deprecation.py:58: DeprecationWarning: Class Imputer is deprecated; Imputer was deprecated in version 0.20 and will be removed in 0.22. Import impute.SimpleImputer from sklearn instead.\n",
      "  warnings.warn(msg, category=DeprecationWarning)\n",
      "c:\\users\\insakum46\\appdata\\local\\programs\\python\\python36\\lib\\site-packages\\sklearn\\utils\\deprecation.py:58: DeprecationWarning: Class Imputer is deprecated; Imputer was deprecated in version 0.20 and will be removed in 0.22. Import impute.SimpleImputer from sklearn instead.\n",
      "  warnings.warn(msg, category=DeprecationWarning)\n"
     ]
    }
   ],
   "source": [
    "import numpy as np\n",
    "from sklearn.preprocessing import Imputer\n",
    "import pandas as pd\n",
    "\n",
    "\n",
    "data = np.array([[1,4,np.nan],[4,6,np.nan],[-3,5,2]])\n",
    "\n",
    "print(data,\"\\n\")\n",
    "\n",
    "# Imputing with mean-strategy\n",
    "imp = Imputer(strategy='mean')\n",
    "print(imp.fit_transform(data),'\\n')\n",
    "\n",
    "# Imputing with most-frequent-strategy\n",
    "imp = Imputer(strategy='most_frequent')\n",
    "print(imp.fit_transform(data))"
   ]
  },
  {
   "cell_type": "code",
   "execution_count": null,
   "metadata": {},
   "outputs": [],
   "source": []
  },
  {
   "cell_type": "code",
   "execution_count": null,
   "metadata": {},
   "outputs": [],
   "source": []
  }
 ],
 "metadata": {
  "kernelspec": {
   "display_name": "Python 3",
   "language": "python",
   "name": "python3"
  },
  "language_info": {
   "codemirror_mode": {
    "name": "ipython",
    "version": 3
   },
   "file_extension": ".py",
   "mimetype": "text/x-python",
   "name": "python",
   "nbconvert_exporter": "python",
   "pygments_lexer": "ipython3",
   "version": "3.6.1"
  }
 },
 "nbformat": 4,
 "nbformat_minor": 2
}
