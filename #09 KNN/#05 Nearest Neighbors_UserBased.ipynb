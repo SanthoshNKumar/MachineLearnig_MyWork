{
 "cells": [
  {
   "cell_type": "code",
   "execution_count": 19,
   "metadata": {},
   "outputs": [],
   "source": [
    "import numpy as np\n",
    "from sklearn.neighbors import NearestNeighbors"
   ]
  },
  {
   "cell_type": "code",
   "execution_count": 20,
   "metadata": {},
   "outputs": [],
   "source": [
    "\n",
    "# For reproducibility\n",
    "np.random.seed(1000)\n",
    "\n",
    "nb_users = 1000\n",
    "nb_product = 20\n",
    "\n",
    "users = np.zeros(shape=(nb_users,4))\n",
    "\n",
    "for i in range(nb_users):\n",
    "    users[i, 0] = np.random.randint(0, 4)\n",
    "    users[i, 1] = np.random.randint(0, 2)\n",
    "    users[i, 2] = np.random.randint(0, 5)\n",
    "    users[i, 2] = np.random.randint(0, 5)\n",
    "\n",
    "# Create user-product dataset\n",
    "user_products = np.random.randint(0, nb_product, size=(nb_users, 5))"
   ]
  },
  {
   "cell_type": "code",
   "execution_count": 21,
   "metadata": {},
   "outputs": [
    {
     "data": {
      "text/plain": [
       "NearestNeighbors(algorithm='auto', leaf_size=30, metric='minkowski',\n",
       "         metric_params=None, n_jobs=None, n_neighbors=20, p=2, radius=2.0)"
      ]
     },
     "execution_count": 21,
     "metadata": {},
     "output_type": "execute_result"
    }
   ],
   "source": [
    "# Fit k-nearest neighbors\n",
    "nn = NearestNeighbors(n_neighbors=20, radius=2.0)\n",
    "nn.fit(users)"
   ]
  },
  {
   "cell_type": "code",
   "execution_count": 22,
   "metadata": {},
   "outputs": [],
   "source": [
    "# Create a test user\n",
    "test_user = np.array([2, 0, 3, 2])"
   ]
  },
  {
   "cell_type": "code",
   "execution_count": 23,
   "metadata": {},
   "outputs": [
    {
     "name": "stdout",
     "output_type": "stream",
     "text": [
      "Neighbors:\n",
      "[[330  94 429 671 551  18 704 731 344 244 554 414 335 765  68 497 180 848\n",
      "  579 810]]\n"
     ]
    }
   ],
   "source": [
    "# Determine the neighbors\n",
    "d, neighbors = nn.kneighbors(test_user.reshape(1, -1))\n",
    "\n",
    "print('Neighbors:')\n",
    "print(neighbors)"
   ]
  },
  {
   "cell_type": "code",
   "execution_count": 24,
   "metadata": {},
   "outputs": [
    {
     "name": "stdout",
     "output_type": "stream",
     "text": [
      "Suggested products:\n",
      "[2, 11, 13, 19, 12, 9, 18, 10, 15, 17, 5, 1, 8, 6, 14, 7, 4, 3, 16]\n"
     ]
    }
   ],
   "source": [
    "# Determine the suggested products\n",
    "suggested_products = []\n",
    "\n",
    "for n in neighbors:\n",
    "    for products in user_products[n]:\n",
    "        for product in products:\n",
    "            if product != 0 and product not in suggested_products:\n",
    "                suggested_products.append(product)\n",
    "\n",
    "print('Suggested products:')\n",
    "print(suggested_products)"
   ]
  },
  {
   "cell_type": "code",
   "execution_count": null,
   "metadata": {},
   "outputs": [],
   "source": []
  }
 ],
 "metadata": {
  "kernelspec": {
   "display_name": "Python 3",
   "language": "python",
   "name": "python3"
  },
  "language_info": {
   "codemirror_mode": {
    "name": "ipython",
    "version": 3
   },
   "file_extension": ".py",
   "mimetype": "text/x-python",
   "name": "python",
   "nbconvert_exporter": "python",
   "pygments_lexer": "ipython3",
   "version": "3.7.4"
  }
 },
 "nbformat": 4,
 "nbformat_minor": 2
}
