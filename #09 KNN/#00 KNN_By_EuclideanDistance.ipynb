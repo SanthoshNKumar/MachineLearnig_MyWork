{
 "cells": [
  {
   "cell_type": "markdown",
   "metadata": {},
   "source": [
    "## Compute KNN Manually Using Euclidean Distance"
   ]
  },
  {
   "cell_type": "code",
   "execution_count": 1,
   "metadata": {},
   "outputs": [],
   "source": [
    "import numpy as np\n",
    "import pandas as pd\n",
    "import math"
   ]
  },
  {
   "cell_type": "code",
   "execution_count": 2,
   "metadata": {},
   "outputs": [
    {
     "data": {
      "text/plain": [
       "array([[ 1. , 12. ,  0. ],\n",
       "       [ 2. ,  5. ,  0. ],\n",
       "       [ 3. ,  6. ,  0. ],\n",
       "       [ 3. , 10. ,  0. ],\n",
       "       [ 3.5,  8. ,  0. ],\n",
       "       [ 2. , 11. ,  0. ],\n",
       "       [ 2. ,  9. ,  0. ],\n",
       "       [ 1. ,  7. ,  0. ],\n",
       "       [ 5. ,  3. ,  1. ],\n",
       "       [ 3. ,  2. ,  1. ],\n",
       "       [ 1.5,  9. ,  1. ],\n",
       "       [ 7. ,  2. ,  1. ],\n",
       "       [ 6. ,  1. ,  1. ],\n",
       "       [ 3.8,  1. ,  1. ],\n",
       "       [ 5.6,  4. ,  1. ],\n",
       "       [ 4. ,  2. ,  1. ],\n",
       "       [ 2. ,  5. ,  1. ]])"
      ]
     },
     "execution_count": 2,
     "metadata": {},
     "output_type": "execute_result"
    }
   ],
   "source": [
    "dataset = np.array([[1,12,0],[2,5,0],[3,6,0],[3,10,0],[3.5,8,0],[2,11,0],[2,9,0],[1,7,0],\n",
    "          [5,3,1],[3,2,1],[1.5,9,1],[7,2,1],[6,1,1],[3.8,1,1],[5.6,4,1],[4,2,1],[2,5,1]])\n",
    "\n",
    "dataset"
   ]
  },
  {
   "cell_type": "code",
   "execution_count": 3,
   "metadata": {},
   "outputs": [],
   "source": [
    "def classifyAPoint(data,points,k):\n",
    "    distance = []\n",
    "    \n",
    "    firstValue = points[0]\n",
    "    secondvalue = points[1]\n",
    "    \n",
    "    len(data)\n",
    "    for i in range(len(data)):\n",
    "        X1 = data[i][0]\n",
    "        \n",
    "        X2 = data[i][1]\n",
    "        classs = data[i][2]\n",
    "\n",
    "        # Find Euclidian Distance\n",
    "        euclidean_distance = np.sqrt(np.square(X1 - firstValue)  + np.square(X2 - secondvalue))\n",
    "        distance.append((euclidean_distance,classs))\n",
    "\n",
    "    distance = sorted(distance)[:k]\n",
    "    \n",
    "    fClass0 =0\n",
    "    fclass1 = 0\n",
    "\n",
    "    for c in distance:\n",
    "        if c[1] == 0:\n",
    "            fClass0 += 1\n",
    "        else:\n",
    "            fclass1 += 1\n",
    "\n",
    "    print(\"1\") if fclass1>fClass0 else print(\"0\")"
   ]
  },
  {
   "cell_type": "code",
   "execution_count": 4,
   "metadata": {},
   "outputs": [
    {
     "name": "stdout",
     "output_type": "stream",
     "text": [
      "1\n"
     ]
    }
   ],
   "source": [
    "# Classify the Datapoints 3.8 and 1 with K =3\n",
    "classifyAPoint(dataset,[3.8,1],3)"
   ]
  },
  {
   "cell_type": "code",
   "execution_count": 5,
   "metadata": {},
   "outputs": [
    {
     "name": "stdout",
     "output_type": "stream",
     "text": [
      "0\n"
     ]
    }
   ],
   "source": [
    "# Classify the Datapoints 3.8 and 1 with K =3\n",
    "classifyAPoint(dataset,[2.5,7],3)"
   ]
  },
  {
   "cell_type": "code",
   "execution_count": null,
   "metadata": {},
   "outputs": [],
   "source": []
  }
 ],
 "metadata": {
  "kernelspec": {
   "display_name": "Python 3",
   "language": "python",
   "name": "python3"
  },
  "language_info": {
   "codemirror_mode": {
    "name": "ipython",
    "version": 3
   },
   "file_extension": ".py",
   "mimetype": "text/x-python",
   "name": "python",
   "nbconvert_exporter": "python",
   "pygments_lexer": "ipython3",
   "version": "3.7.4"
  }
 },
 "nbformat": 4,
 "nbformat_minor": 2
}
