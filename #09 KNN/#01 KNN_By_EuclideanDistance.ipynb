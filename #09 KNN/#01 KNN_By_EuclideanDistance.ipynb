{
 "cells": [
  {
   "cell_type": "markdown",
   "metadata": {},
   "source": [
    "## Compute KNN_Regressor Manually Using Euclidean Distance"
   ]
  },
  {
   "cell_type": "code",
   "execution_count": 1,
   "metadata": {},
   "outputs": [
    {
     "data": {
      "text/html": [
       "<div>\n",
       "<style scoped>\n",
       "    .dataframe tbody tr th:only-of-type {\n",
       "        vertical-align: middle;\n",
       "    }\n",
       "\n",
       "    .dataframe tbody tr th {\n",
       "        vertical-align: top;\n",
       "    }\n",
       "\n",
       "    .dataframe thead th {\n",
       "        text-align: right;\n",
       "    }\n",
       "</style>\n",
       "<table border=\"1\" class=\"dataframe\">\n",
       "  <thead>\n",
       "    <tr style=\"text-align: right;\">\n",
       "      <th></th>\n",
       "      <th>Height</th>\n",
       "      <th>Age</th>\n",
       "      <th>Weight</th>\n",
       "    </tr>\n",
       "  </thead>\n",
       "  <tbody>\n",
       "    <tr>\n",
       "      <td>0</td>\n",
       "      <td>5.00</td>\n",
       "      <td>45.0</td>\n",
       "      <td>77.0</td>\n",
       "    </tr>\n",
       "    <tr>\n",
       "      <td>1</td>\n",
       "      <td>5.11</td>\n",
       "      <td>26.0</td>\n",
       "      <td>47.0</td>\n",
       "    </tr>\n",
       "    <tr>\n",
       "      <td>2</td>\n",
       "      <td>5.60</td>\n",
       "      <td>30.0</td>\n",
       "      <td>55.0</td>\n",
       "    </tr>\n",
       "    <tr>\n",
       "      <td>3</td>\n",
       "      <td>5.90</td>\n",
       "      <td>34.0</td>\n",
       "      <td>59.0</td>\n",
       "    </tr>\n",
       "    <tr>\n",
       "      <td>4</td>\n",
       "      <td>4.80</td>\n",
       "      <td>40.0</td>\n",
       "      <td>72.0</td>\n",
       "    </tr>\n",
       "    <tr>\n",
       "      <td>5</td>\n",
       "      <td>5.80</td>\n",
       "      <td>36.0</td>\n",
       "      <td>60.0</td>\n",
       "    </tr>\n",
       "    <tr>\n",
       "      <td>6</td>\n",
       "      <td>5.30</td>\n",
       "      <td>19.0</td>\n",
       "      <td>40.0</td>\n",
       "    </tr>\n",
       "    <tr>\n",
       "      <td>7</td>\n",
       "      <td>5.80</td>\n",
       "      <td>28.0</td>\n",
       "      <td>60.0</td>\n",
       "    </tr>\n",
       "    <tr>\n",
       "      <td>8</td>\n",
       "      <td>5.50</td>\n",
       "      <td>23.0</td>\n",
       "      <td>45.0</td>\n",
       "    </tr>\n",
       "    <tr>\n",
       "      <td>9</td>\n",
       "      <td>5.60</td>\n",
       "      <td>32.0</td>\n",
       "      <td>58.0</td>\n",
       "    </tr>\n",
       "  </tbody>\n",
       "</table>\n",
       "</div>"
      ],
      "text/plain": [
       "   Height   Age  Weight\n",
       "0    5.00  45.0    77.0\n",
       "1    5.11  26.0    47.0\n",
       "2    5.60  30.0    55.0\n",
       "3    5.90  34.0    59.0\n",
       "4    4.80  40.0    72.0\n",
       "5    5.80  36.0    60.0\n",
       "6    5.30  19.0    40.0\n",
       "7    5.80  28.0    60.0\n",
       "8    5.50  23.0    45.0\n",
       "9    5.60  32.0    58.0"
      ]
     },
     "execution_count": 1,
     "metadata": {},
     "output_type": "execute_result"
    }
   ],
   "source": [
    "import numpy as np\n",
    "import pandas as pd\n",
    "\n",
    "data = np.array([[5,45,77],[5.11,26,47],[5.6,30,55],[5.9,34,59],[4.8,40,72],\n",
    "                 [5.8,36,60],[5.3,19,40],[5.8,28,60],[5.5,23,45],[5.6,32,58]])\n",
    "\n",
    "pd.DataFrame(data,columns=[\"Height\",\"Age\",\"Weight\"])"
   ]
  },
  {
   "cell_type": "code",
   "execution_count": 2,
   "metadata": {},
   "outputs": [],
   "source": [
    "def classifyAPoint(data,height,weight,k):\n",
    "    distance = []\n",
    "    \n",
    "    firstValue = height\n",
    "    secondvalue = weight\n",
    "    \n",
    "    len(data)\n",
    "    for i in range(len(data)):\n",
    "        X1 = data[i][0]\n",
    "        X2 = data[i][1]\n",
    "        labels = data[i][2]\n",
    "        \n",
    "        # Find Euclidian Distance\n",
    "        euclidean_distance = np.sqrt(np.square(X1 - firstValue)  + np.square(X2 - secondvalue))\n",
    "        distance.append((euclidean_distance,labels))\n",
    "        \n",
    "    distance = sorted(distance)[:k]\n",
    "    \n",
    "    sum = 0\n",
    "    \n",
    "    # Take the Agerage of the Labels\n",
    "    for i in range(len(distance)):\n",
    "        sum += distance[i][1]\n",
    "    \n",
    "    # get the Average value\n",
    "    print(\"output: =\",np.divide(sum,k))"
   ]
  },
  {
   "cell_type": "code",
   "execution_count": 3,
   "metadata": {},
   "outputs": [
    {
     "name": "stdout",
     "output_type": "stream",
     "text": [
      "output: = 44.0\n"
     ]
    }
   ],
   "source": [
    "classifyAPoint(data,5.50,23,3)"
   ]
  }
 ],
 "metadata": {
  "kernelspec": {
   "display_name": "Python 3",
   "language": "python",
   "name": "python3"
  },
  "language_info": {
   "codemirror_mode": {
    "name": "ipython",
    "version": 3
   },
   "file_extension": ".py",
   "mimetype": "text/x-python",
   "name": "python",
   "nbconvert_exporter": "python",
   "pygments_lexer": "ipython3",
   "version": "3.7.4"
  }
 },
 "nbformat": 4,
 "nbformat_minor": 2
}
