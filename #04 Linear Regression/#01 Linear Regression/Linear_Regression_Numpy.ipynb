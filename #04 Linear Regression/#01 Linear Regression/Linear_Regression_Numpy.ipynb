{
 "cells": [
  {
   "cell_type": "code",
   "execution_count": 1,
   "metadata": {},
   "outputs": [
    {
     "name": "stdout",
     "output_type": "stream",
     "text": [
      "[[0.25]\n",
      " [2.25]\n",
      " [4.  ]]\n",
      "1.0833333333333333\n",
      "0.08333333333333333\n",
      "0.25\n"
     ]
    }
   ],
   "source": [
    "\n",
    "import numpy as np\n",
    "\n",
    "X = np.array([[1], [2], [3]])\n",
    "y = np.array([[1], [2.5], [3.5]])\n",
    "\n",
    "get_theta = lambda theta: np.array([[0, theta]])\n",
    "\n",
    "\n",
    "thetas = list(map(get_theta, [0.5, 1.0, 1.5]))\n",
    "\n",
    "# theta1 = [0,0.5]\n",
    "# theta2 = [0,1.0]\n",
    "# theta3 = [0,1.5]\n",
    "\n",
    "X = np.hstack([np.ones([3, 1]), X])\n",
    "\n",
    "##  X = array([[1., 1.],[1., 2.],[1., 3.]])\n",
    "\n",
    "val = inner = np.power(((X @ thetas[0].T) - y), 2)\n",
    "\n",
    "print(val)\n",
    "\n",
    "def cost(X, y, theta):\n",
    "    inner = np.power(((X @ theta.T) - y), 2)\n",
    "    return np.sum(inner) / (2 * len(X))\n",
    "\n",
    "for i in range(len(thetas)):\n",
    "    print(cost(X, y, thetas[i]))"
   ]
  },
  {
   "cell_type": "code",
   "execution_count": null,
   "metadata": {},
   "outputs": [],
   "source": []
  }
 ],
 "metadata": {
  "kernelspec": {
   "display_name": "Python 3",
   "language": "python",
   "name": "python3"
  },
  "language_info": {
   "codemirror_mode": {
    "name": "ipython",
    "version": 3
   },
   "file_extension": ".py",
   "mimetype": "text/x-python",
   "name": "python",
   "nbconvert_exporter": "python",
   "pygments_lexer": "ipython3",
   "version": "3.7.4"
  }
 },
 "nbformat": 4,
 "nbformat_minor": 2
}
