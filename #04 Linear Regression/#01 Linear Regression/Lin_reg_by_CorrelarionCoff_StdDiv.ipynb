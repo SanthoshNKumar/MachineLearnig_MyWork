{
 "cells": [
  {
   "cell_type": "code",
   "execution_count": 2,
   "metadata": {},
   "outputs": [
    {
     "name": "stdout",
     "output_type": "stream",
     "text": [
      "Size of the x =  10\n",
      "Mean of the input feature=  15.6\n",
      "Mean value of the responce=  79.7\n",
      "0.5960947613894624\n"
     ]
    },
    {
     "data": {
      "image/png": "[encoded data removed]",
      "text/plain": [
       "<Figure size 432x288 with 1 Axes>"
      ]
     },
     "metadata": {
      "needs_background": "light"
     },
     "output_type": "display_data"
    }
   ],
   "source": [
    "import numpy as np\n",
    "import matplotlib.pyplot as plt\n",
    "\n",
    "def estimate_coefficients(x,y):\n",
    "    n = np.size(y)\n",
    "    print(\"Size of the x = \",n)\n",
    "    # find Mean of x and Y\n",
    "    mean_x = np.mean(x)\n",
    "    mean_y = np.mean(y)\n",
    "\n",
    "    print(\"Mean of the input feature= \",mean_x)\n",
    "    print(\"Mean value of the responce= \",mean_y)\n",
    "\n",
    "    #pint(np.sum((x - np.mean(x)) * (y - np.mean(y))))\n",
    "    #print(np.sum((x - np.mean(x)) * (x - np.mean(x))))\n",
    "    #print(np.sum((y - np.mean(y)) * (y - np.mean(y))))\n",
    "\n",
    "    # Correlation coefficients\n",
    "    r = np.sum((x - np.mean(x)) * (y - np.mean(y))) / np.sqrt((np.sum((x - np.mean(x)) * (x - np.mean(x)))) * np.sum((y - np.mean(y)) * (y - np.mean(y))) )\n",
    "\n",
    "    print(r)\n",
    "\n",
    "    # Deviation Sy\n",
    "    Sy = np.sqrt(np.sum(np.square(y - np.mean(y))) / (n -1))\n",
    "\n",
    "    # Deviation Sx\n",
    "    Sx = np.sqrt(np.sum(np.square(x - np.mean(x))) / (n -1))\n",
    "\n",
    "    #compute the Slope (b)\n",
    "    b = r * (Sy / Sx)\n",
    "\n",
    "    #Compute the Y Intercept\n",
    "    a = np.mean(y) - (b * np.mean(x))\n",
    "    \n",
    "    return(a,b)\n",
    "\n",
    "def plot_regression_line(x,y,b):\n",
    "    # Plotting the graph as per trhe dataset\n",
    "    plt.scatter(x,y,color ='m',s= 30,marker='o')\n",
    "    \n",
    "    # Predict the response vector\n",
    "    y_pred = b[0] + b[1]*x\n",
    "    \n",
    "    # Plotting the regression Line\n",
    "    plt.plot(x,y_pred, color = 'g')\n",
    "    \n",
    "    # putting labels for x and Y axis\n",
    "    plt.xlabel(\"Size\")\n",
    "    plt.ylabel(\"Cost\")\n",
    "    \n",
    "    #Function to show plotted graph\n",
    "    plt.show()\n",
    "    \n",
    "x = np.array([17,13,12,15,16,14,16,16,18,19])\n",
    "y = np.array([94,73,59,80,93,85,66,79,77,91])\n",
    "\n",
    "b = estimate_coefficients(x,y)\n",
    "\n",
    "plot_regression_line(x,y,b)"
   ]
  },
  {
   "cell_type": "code",
   "execution_count": null,
   "metadata": {},
   "outputs": [],
   "source": []
  }
 ],
 "metadata": {
  "kernelspec": {
   "display_name": "Python 3",
   "language": "python",
   "name": "python3"
  },
  "language_info": {
   "codemirror_mode": {
    "name": "ipython",
    "version": 3
   },
   "file_extension": ".py",
   "mimetype": "text/x-python",
   "name": "python",
   "nbconvert_exporter": "python",
   "pygments_lexer": "ipython3",
   "version": "3.7.4"
  }
 },
 "nbformat": 4,
 "nbformat_minor": 2
}
