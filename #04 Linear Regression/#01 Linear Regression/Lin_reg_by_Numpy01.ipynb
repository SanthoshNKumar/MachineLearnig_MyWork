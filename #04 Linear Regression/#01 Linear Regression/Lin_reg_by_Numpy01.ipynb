{
 "cells": [
  {
   "cell_type": "code",
   "execution_count": 2,
   "metadata": {},
   "outputs": [
    {
     "name": "stdout",
     "output_type": "stream",
     "text": [
      "Iteration1: 0\n",
      "Cost: [18.55433431]\n",
      "Iteration1: 1\n",
      "Cost: [4.11514451]\n",
      "Iteration1: 2\n",
      "Cost: [1.0162269]\n",
      "Iteration1: 3\n",
      "Cost: [0.35112212]\n",
      "Iteration1: 4\n",
      "Cost: [0.20835448]\n",
      "Iteration1: 5\n",
      "Cost: [0.17768921]\n",
      "Iteration1: 6\n",
      "Cost: [0.17108301]\n",
      "Iteration1: 7\n",
      "Cost: [0.16964034]\n",
      "Iteration1: 8\n",
      "Cost: [0.16930589]\n",
      "Iteration1: 9\n",
      "Cost: [0.16920931]\n"
     ]
    },
    {
     "data": {
      "image/png": "[encoded data removed]",
      "text/plain": [
       "<Figure size 432x288 with 1 Axes>"
      ]
     },
     "metadata": {
      "needs_background": "light"
     },
     "output_type": "display_data"
    }
   ],
   "source": [
    "import numpy as np\n",
    "import pandas as pd\n",
    "import matplotlib.pyplot as plt\n",
    "\n",
    "# Create Data\n",
    "mean  = np.array([5.0,6.0])\n",
    "cov = np.array([[1.0,0.95],[0.95,1.2]])\n",
    "data = np.random.multivariate_normal(mean,cov,8000)\n",
    "\n",
    "plt.scatter(data[:500,0],data[:500,1])\n",
    "\n",
    "# train-test-split\n",
    "#ones =np.ones((data.shape[0],1))\n",
    "#data = np.hstack((ones,data))\n",
    "\n",
    "split_factor = 0.90\n",
    "split= int(split_factor * data.shape[0])\n",
    "\n",
    "X_train = data[:split,:-1]\n",
    "Y_train = data[:split, -1].reshape((-1, 1)) \n",
    "X_test = data[split:, :-1] \n",
    "y_test = data[split:, -1].reshape((-1, 1))\n",
    "\n",
    "\n",
    "# Building Model\n",
    "# Linear regression formula ypred  = Wx+ b ; W = slode and b = bias\n",
    "\n",
    "w=0;b=0\n",
    "\n",
    "learningrate =0.01\n",
    "epochs = 10\n",
    "n = len(X_train)\n",
    "\n",
    "for i in range(epochs):\n",
    "    \n",
    "    print(\"Iteration1:\",str(i))\n",
    "    \n",
    "    ypred = w*X_train + b\n",
    "    # cost = (1/(2 * n)) * np.sum((Y_train - ypred)**2) \n",
    "    cost = (1 / (2 * len(X_train)))  * sum([val **2 for val in (Y_train - ypred)])\n",
    "    print(\"Cost:\",cost)\n",
    "    \n",
    "    dw = (-2/n) * np.sum(X_train * (Y_train - ypred))\n",
    "    db = (-2/n) * np.sum(Y_train - ypred)\n",
    "\n",
    "    w = w - learningrate * dw\n",
    "    b = b - learningrate * db\n",
    "\n",
    "Y_pred = w*X_train + b\n",
    "\n",
    "plt.scatter(X_train, Y_train) \n",
    "plt.plot([min(X_train), max(X_train)], [min(Y_pred), max(Y_pred)], color='red')  # regression line\n",
    "plt.show()"
   ]
  }
 ],
 "metadata": {
  "kernelspec": {
   "display_name": "Python 3",
   "language": "python",
   "name": "python3"
  },
  "language_info": {
   "codemirror_mode": {
    "name": "ipython",
    "version": 3
   },
   "file_extension": ".py",
   "mimetype": "text/x-python",
   "name": "python",
   "nbconvert_exporter": "python",
   "pygments_lexer": "ipython3",
   "version": "3.7.4"
  }
 },
 "nbformat": 4,
 "nbformat_minor": 2
}
