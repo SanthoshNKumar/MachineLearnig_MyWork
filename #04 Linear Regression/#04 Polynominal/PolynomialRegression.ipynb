{
 "cells": [
  {
   "cell_type": "code",
   "execution_count": 1,
   "metadata": {},
   "outputs": [
    {
     "data": {
      "text/plain": [
       "<function matplotlib.pyplot.show(*args, **kw)>"
      ]
     },
     "execution_count": 1,
     "metadata": {},
     "output_type": "execute_result"
    }
   ],
   "source": [
    "import numpy as np\n",
    "\n",
    "Time = np.array([6, 8, 11, 14, 16, 18, 19])\n",
    "Temp = np.array([4, 7, 10, 12, 11.5, 9, 7])\n",
    "\n",
    "import matplotlib.pyplot as plt\n",
    "plt.figure()\n",
    "plt.plot(Time, Temp, 'bo')\n",
    "plt.xlabel(\"Time\")\n",
    "plt.ylabel(\"Temp\")\n",
    "plt.title('Temperature versus time')\n",
    "plt.show\n",
    "\n",
    "beta = np.polyfit(Time, Temp, 2)\n",
    "p = np.poly1d(beta)\n",
    "\n",
    "xp = np.linspace(6, 19, 100)\n",
    "plt.figure()\n",
    "plt.plot(Time, Temp, 'bo', xp, p(xp), '-')\n",
    "plt.xlabel(\"Time\")\n",
    "plt.ylabel(\"Temp\")\n",
    "plt.title('Temperature versus time')\n",
    "plt.show"
   ]
  },
  {
   "cell_type": "code",
   "execution_count": null,
   "metadata": {},
   "outputs": [],
   "source": []
  }
 ],
 "metadata": {
  "kernelspec": {
   "display_name": "Python 3",
   "language": "python",
   "name": "python3"
  },
  "language_info": {
   "codemirror_mode": {
    "name": "ipython",
    "version": 3
   },
   "file_extension": ".py",
   "mimetype": "text/x-python",
   "name": "python",
   "nbconvert_exporter": "python",
   "pygments_lexer": "ipython3",
   "version": "3.6.1"
  }
 },
 "nbformat": 4,
 "nbformat_minor": 2
}
